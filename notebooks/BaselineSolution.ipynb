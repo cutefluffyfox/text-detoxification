{
 "cells": [
  {
   "cell_type": "markdown",
   "id": "6e372475",
   "metadata": {},
   "source": [
    "# Baseline solution\n",
    "\n",
    "Goal of this notebook is to implement simple solution and get score to propose our initial hypothesys. As a baseline I will use idea of removing words that correlate with high-toxic score.  \n",
    "\n",
    "Prerequirements to run this notebook:\n",
    "* download all libraries mentioned in `requirements.txt`\n",
    "* download [filtered ParaNMT-detox corpus dataset](https://github.com/skoltech-nlp/detox/releases/download/emnlp2021/filtered_paranmt.zip)\n",
    "* unzip archive via graphical interface (ui.py) or just by hands to a directory `../data/raw/filtered_paranmt/filtered.tsv`\n",
    "\n",
    "Basic information about the dataset\n",
    "* `reference` (str) - First item from the pair\n",
    "* `ref_tox` (float) - toxicity level of reference text\n",
    "* `translation` (str) - second item from the pair - paraphrazed version of the reference\n",
    "* `trn_tox` (float) - toxicity level of translation text\n",
    "* `similarity` (float) - cosine similarity of the texts\n",
    "* `lenght_diff` (float) - relative length difference between texts"
   ]
  },
  {
   "cell_type": "code",
   "execution_count": 1,
   "id": "49528963",
   "metadata": {},
   "outputs": [
    {
     "data": {
      "text/html": [
       "<div>\n",
       "<style scoped>\n",
       "    .dataframe tbody tr th:only-of-type {\n",
       "        vertical-align: middle;\n",
       "    }\n",
       "\n",
       "    .dataframe tbody tr th {\n",
       "        vertical-align: top;\n",
       "    }\n",
       "\n",
       "    .dataframe thead th {\n",
       "        text-align: right;\n",
       "    }\n",
       "</style>\n",
       "<table border=\"1\" class=\"dataframe\">\n",
       "  <thead>\n",
       "    <tr style=\"text-align: right;\">\n",
       "      <th></th>\n",
       "      <th>reference</th>\n",
       "      <th>translation</th>\n",
       "      <th>similarity</th>\n",
       "      <th>lenght_diff</th>\n",
       "      <th>ref_tox</th>\n",
       "      <th>trn_tox</th>\n",
       "    </tr>\n",
       "  </thead>\n",
       "  <tbody>\n",
       "    <tr>\n",
       "      <th>0</th>\n",
       "      <td>If Alkar is flooding her with psychic waste, t...</td>\n",
       "      <td>if Alkar floods her with her mental waste, it ...</td>\n",
       "      <td>0.785171</td>\n",
       "      <td>0.010309</td>\n",
       "      <td>0.014195</td>\n",
       "      <td>0.981983</td>\n",
       "    </tr>\n",
       "    <tr>\n",
       "      <th>1</th>\n",
       "      <td>Now you're getting nasty.</td>\n",
       "      <td>you're becoming disgusting.</td>\n",
       "      <td>0.749687</td>\n",
       "      <td>0.071429</td>\n",
       "      <td>0.065473</td>\n",
       "      <td>0.999039</td>\n",
       "    </tr>\n",
       "    <tr>\n",
       "      <th>2</th>\n",
       "      <td>Well, we could spare your life, for one.</td>\n",
       "      <td>well, we can spare your life.</td>\n",
       "      <td>0.919051</td>\n",
       "      <td>0.268293</td>\n",
       "      <td>0.213313</td>\n",
       "      <td>0.985068</td>\n",
       "    </tr>\n",
       "    <tr>\n",
       "      <th>3</th>\n",
       "      <td>Ah! Monkey, you've got to snap out of it.</td>\n",
       "      <td>monkey, you have to wake up.</td>\n",
       "      <td>0.664333</td>\n",
       "      <td>0.309524</td>\n",
       "      <td>0.053362</td>\n",
       "      <td>0.994215</td>\n",
       "    </tr>\n",
       "    <tr>\n",
       "      <th>4</th>\n",
       "      <td>I've got orders to put her down.</td>\n",
       "      <td>I have orders to kill her.</td>\n",
       "      <td>0.726639</td>\n",
       "      <td>0.181818</td>\n",
       "      <td>0.009402</td>\n",
       "      <td>0.999348</td>\n",
       "    </tr>\n",
       "  </tbody>\n",
       "</table>\n",
       "</div>"
      ],
      "text/plain": [
       "                                           reference  \\\n",
       "0  If Alkar is flooding her with psychic waste, t...   \n",
       "1                          Now you're getting nasty.   \n",
       "2           Well, we could spare your life, for one.   \n",
       "3          Ah! Monkey, you've got to snap out of it.   \n",
       "4                   I've got orders to put her down.   \n",
       "\n",
       "                                         translation  similarity  lenght_diff  \\\n",
       "0  if Alkar floods her with her mental waste, it ...    0.785171     0.010309   \n",
       "1                        you're becoming disgusting.    0.749687     0.071429   \n",
       "2                      well, we can spare your life.    0.919051     0.268293   \n",
       "3                       monkey, you have to wake up.    0.664333     0.309524   \n",
       "4                         I have orders to kill her.    0.726639     0.181818   \n",
       "\n",
       "    ref_tox   trn_tox  \n",
       "0  0.014195  0.981983  \n",
       "1  0.065473  0.999039  \n",
       "2  0.213313  0.985068  \n",
       "3  0.053362  0.994215  \n",
       "4  0.009402  0.999348  "
      ]
     },
     "execution_count": 1,
     "metadata": {},
     "output_type": "execute_result"
    }
   ],
   "source": [
    "import pandas as pd\n",
    "\n",
    "df = pd.read_table('../data/raw/filtered_paranmt/filtered.tsv', index_col=0)\n",
    "\n",
    "df.head()"
   ]
  },
  {
   "cell_type": "markdown",
   "id": "6eef7681",
   "metadata": {},
   "source": [
    "# Preprocessing step\n",
    "\n",
    "I will use techniques 1.1-1.3 (from `LearningDataset` notebook) for preprocessing. Main idea is to split translation/reference to toxic/non-toxic columns (as they are mixed) and introduce some threasholds on simmilarity and toxicity.\n",
    "\n",
    "\n",
    "1.1 During data preprocessing introduce new features `toxic` and `non-toxic` based on `ref_tox` and `trn_tox` scores.\\\n",
    "1.2 Introduce `toxisity_difference` threashold duting preprocessing.\\\n",
    "1.3 Tune which `simmilarity` value to consider in order to save sence of the sentences."
   ]
  },
  {
   "cell_type": "code",
   "execution_count": 2,
   "id": "e90d4ed1",
   "metadata": {},
   "outputs": [],
   "source": [
    "toxisity_difference = 0.75\n",
    "simmilarity_rate = 0.65"
   ]
  },
  {
   "cell_type": "code",
   "execution_count": 3,
   "id": "fbd65a00",
   "metadata": {},
   "outputs": [
    {
     "name": "stdout",
     "output_type": "stream",
     "text": [
      "Queries passed: 72.61%\n"
     ]
    },
    {
     "data": {
      "text/html": [
       "<div>\n",
       "<style scoped>\n",
       "    .dataframe tbody tr th:only-of-type {\n",
       "        vertical-align: middle;\n",
       "    }\n",
       "\n",
       "    .dataframe tbody tr th {\n",
       "        vertical-align: top;\n",
       "    }\n",
       "\n",
       "    .dataframe thead th {\n",
       "        text-align: right;\n",
       "    }\n",
       "</style>\n",
       "<table border=\"1\" class=\"dataframe\">\n",
       "  <thead>\n",
       "    <tr style=\"text-align: right;\">\n",
       "      <th></th>\n",
       "      <th>message</th>\n",
       "      <th>tox_score</th>\n",
       "    </tr>\n",
       "  </thead>\n",
       "  <tbody>\n",
       "    <tr>\n",
       "      <th>0</th>\n",
       "      <td>if Alkar floods her with her mental waste, it ...</td>\n",
       "      <td>0.981983</td>\n",
       "    </tr>\n",
       "    <tr>\n",
       "      <th>1</th>\n",
       "      <td>you're becoming disgusting.</td>\n",
       "      <td>0.999039</td>\n",
       "    </tr>\n",
       "    <tr>\n",
       "      <th>2</th>\n",
       "      <td>well, we can spare your life.</td>\n",
       "      <td>0.985068</td>\n",
       "    </tr>\n",
       "    <tr>\n",
       "      <th>3</th>\n",
       "      <td>monkey, you have to wake up.</td>\n",
       "      <td>0.994215</td>\n",
       "    </tr>\n",
       "    <tr>\n",
       "      <th>4</th>\n",
       "      <td>I have orders to kill her.</td>\n",
       "      <td>0.999348</td>\n",
       "    </tr>\n",
       "  </tbody>\n",
       "</table>\n",
       "</div>"
      ],
      "text/plain": [
       "                                             message  tox_score\n",
       "0  if Alkar floods her with her mental waste, it ...   0.981983\n",
       "1                        you're becoming disgusting.   0.999039\n",
       "2                      well, we can spare your life.   0.985068\n",
       "3                       monkey, you have to wake up.   0.994215\n",
       "4                         I have orders to kill her.   0.999348"
      ]
     },
     "execution_count": 3,
     "metadata": {},
     "output_type": "execute_result"
    }
   ],
   "source": [
    "# split words to toxic & non-toxic based on rate [1.1]\n",
    "tox_queries = []\n",
    "ntox_queries = []\n",
    "\n",
    "for tox_query, ntox_query, sim, len_diff, tox, ntox in df.values:\n",
    "    if tox < ntox:\n",
    "        tox, ntox = ntox, tox\n",
    "        tox_query, ntox_query = ntox_query, tox_query \n",
    "    \n",
    "    # add threasholds on toxisity_difference [1.2] and simmilarity rate [1.3]\n",
    "    if (tox - ntox) >= toxisity_difference and sim >= simmilarity_rate:\n",
    "        tox_queries.append((tox_query, tox))\n",
    "        ntox_queries.append((ntox_query, ntox))\n",
    "\n",
    "print(f'Queries passed: {round(100 * len(tox_queries) / df.shape[0], 2)}%')\n",
    "\n",
    "# convert processed data to dataframes\n",
    "tox = pd.DataFrame(tox_queries, columns=['message', 'tox_score'])\n",
    "non_tox = pd.DataFrame(ntox_queries, columns=['message', 'tox_score'])\n",
    "\n",
    "tox.head()"
   ]
  },
  {
   "cell_type": "code",
   "execution_count": 4,
   "id": "cd1908f6",
   "metadata": {},
   "outputs": [
    {
     "name": "stderr",
     "output_type": "stream",
     "text": [
      "/home/cutefluffyfox/.local/lib/python3.10/site-packages/scipy/__init__.py:146: UserWarning: A NumPy version >=1.17.3 and <1.25.0 is required for this version of SciPy (detected version 1.26.1\n",
      "  warnings.warn(f\"A NumPy version >={np_minversion} and <{np_maxversion}\"\n"
     ]
    },
    {
     "data": {
      "text/html": [
       "<div>\n",
       "<style scoped>\n",
       "    .dataframe tbody tr th:only-of-type {\n",
       "        vertical-align: middle;\n",
       "    }\n",
       "\n",
       "    .dataframe tbody tr th {\n",
       "        vertical-align: top;\n",
       "    }\n",
       "\n",
       "    .dataframe thead th {\n",
       "        text-align: right;\n",
       "    }\n",
       "</style>\n",
       "<table border=\"1\" class=\"dataframe\">\n",
       "  <thead>\n",
       "    <tr style=\"text-align: right;\">\n",
       "      <th></th>\n",
       "      <th>message</th>\n",
       "      <th>tox_score</th>\n",
       "    </tr>\n",
       "  </thead>\n",
       "  <tbody>\n",
       "    <tr>\n",
       "      <th>0</th>\n",
       "      <td>[if, alkar, floods, her, with, her, mental, wa...</td>\n",
       "      <td>0.981983</td>\n",
       "    </tr>\n",
       "    <tr>\n",
       "      <th>1</th>\n",
       "      <td>[you, 're, becoming, disgusting, .]</td>\n",
       "      <td>0.999039</td>\n",
       "    </tr>\n",
       "    <tr>\n",
       "      <th>2</th>\n",
       "      <td>[well, ,, we, can, spare, your, life, .]</td>\n",
       "      <td>0.985068</td>\n",
       "    </tr>\n",
       "    <tr>\n",
       "      <th>3</th>\n",
       "      <td>[monkey, ,, you, have, to, wake, up, .]</td>\n",
       "      <td>0.994215</td>\n",
       "    </tr>\n",
       "    <tr>\n",
       "      <th>4</th>\n",
       "      <td>[i, have, orders, to, kill, her, .]</td>\n",
       "      <td>0.999348</td>\n",
       "    </tr>\n",
       "  </tbody>\n",
       "</table>\n",
       "</div>"
      ],
      "text/plain": [
       "                                             message  tox_score\n",
       "0  [if, alkar, floods, her, with, her, mental, wa...   0.981983\n",
       "1                [you, 're, becoming, disgusting, .]   0.999039\n",
       "2           [well, ,, we, can, spare, your, life, .]   0.985068\n",
       "3            [monkey, ,, you, have, to, wake, up, .]   0.994215\n",
       "4                [i, have, orders, to, kill, her, .]   0.999348"
      ]
     },
     "execution_count": 4,
     "metadata": {},
     "output_type": "execute_result"
    }
   ],
   "source": [
    "from nltk.tokenize import word_tokenize\n",
    "\n",
    "# tokenize\n",
    "tox['message'] = tox.message.str.lower().apply(word_tokenize)\n",
    "non_tox['message'] = non_tox.message.str.lower().apply(word_tokenize)\n",
    "\n",
    "tox.head()"
   ]
  },
  {
   "cell_type": "code",
   "execution_count": 5,
   "id": "aa15c986",
   "metadata": {},
   "outputs": [
    {
     "name": "stdout",
     "output_type": "stream",
     "text": [
      "Train size: 755090\n",
      "Test size: 83900\n"
     ]
    }
   ],
   "source": [
    "from sklearn.model_selection import train_test_split\n",
    "\n",
    "X = tox\n",
    "y = non_tox\n",
    "\n",
    "# split data to train/test\n",
    "X_train, X_test, y_train, y_test = train_test_split(X, y, test_size=0.1, random_state=42)\n",
    "\n",
    "print('Train size:', X_train.size)\n",
    "print('Test size:', X_test.size)"
   ]
  },
  {
   "cell_type": "markdown",
   "id": "814c6e60",
   "metadata": {},
   "source": [
    "# Model itself \n",
    "\n",
    "For baseline model I suggested an idea of simple toxic-word remover. For that we already explored how to determine such words `1.4` and `1.6` (in `LearningDataset` notebook). Basically we can calculate mean and standart deviation for each sentence word appears in. With that, we can define threashold of toxicity (mean) and out certainty (std). With this idea we suppose to get all curse words and words with the only toxic meaning. For words that could be both toxic and non-toxic (e.g. kill) std ideally should be high enough, so they won't be included in the list."
   ]
  },
  {
   "cell_type": "code",
   "execution_count": 6,
   "id": "1ca60407",
   "metadata": {},
   "outputs": [],
   "source": [
    "import numpy as np\n",
    "\n",
    "\n",
    "class ToxicWordRemover:\n",
    "    def __init__(self, std: float = 0.1, mean: float = 0.9, n_occurences: int = 20):\n",
    "        self.word_tox = dict()\n",
    "        self.toxic_words = set()\n",
    "        self.update_params(std=std, mean=mean, n_occurences=n_occurences, recalculate=False)\n",
    "    \n",
    "    def fit(self, toxic: pd.DataFrame, non_toxic: pd.DataFrame, with_scores: float = False):\n",
    "        # check if scores exists, if no, add them\n",
    "        if not with_scores:\n",
    "            toxic['tox_score'] = 1\n",
    "            non_tox['tox_score'] = 0\n",
    "        \n",
    "        # combine sentences\n",
    "        combined = pd.concat([toxic, non_toxic])\n",
    "        \n",
    "        # calculate mean/std toxisity levels for each word (from most popular one)\n",
    "        word_tox = dict()\n",
    "\n",
    "        # iterate through all tokens and add their' toxisity value to dict\n",
    "        for words, tox_level in combined.values:\n",
    "            for word in words:\n",
    "                \n",
    "                if word not in word_tox:\n",
    "                    word_tox[word] = []\n",
    "\n",
    "                word_tox[word].append(tox_level)\n",
    "        \n",
    "        # convert all values to numpy for faster statistics\n",
    "        for word in word_tox:\n",
    "            word_tox[word] = np.array(word_tox[word])\n",
    "        \n",
    "        # save raw data for recalculation purposes\n",
    "        self.word_tox = word_tox\n",
    "        \n",
    "        # determine toxic words and save them\n",
    "        self.__determine_toxic()\n",
    "        \n",
    "    \n",
    "    def predict(self, sentences):\n",
    "        filtered = []\n",
    "        \n",
    "        for sentence in sentences.values:\n",
    "            filtered.append([])\n",
    "            for word in sentence:\n",
    "                # for each word in sentence check if it's toxic\n",
    "                if word not in self.toxic_words:  # ignore if it's toxic\n",
    "                    filtered[-1].append(word)\n",
    "        \n",
    "        return filtered\n",
    "    \n",
    "    def update_params(self, std: float = None, mean: float = None, n_occurences: int = None, recalculate: bool = True):\n",
    "        # update any parameter\n",
    "        if std is not None:\n",
    "            self.std = std\n",
    "        if mean is not None:\n",
    "            self.mean = mean\n",
    "        if n_occurences is not None:\n",
    "            self.n_occurences = n_occurences\n",
    "        \n",
    "        # update toxic words if needed\n",
    "        if recalculate:\n",
    "            self.__determine_toxic()\n",
    "    \n",
    "    def get_toxic_words(self):\n",
    "        return self.toxic_words\n",
    "    \n",
    "    def __determine_toxic(self):\n",
    "        self.toxic_words = set()\n",
    "        \n",
    "        # determine what words satisfy our toxicity requirements\n",
    "        for word, tox_levels in self.word_tox.items():\n",
    "            if (\n",
    "                tox_levels.std() < self.std and \n",
    "                tox_levels.mean() > self.mean and \n",
    "                tox_levels.size >= self.n_occurences\n",
    "               ):\n",
    "                self.toxic_words.add(word)\n",
    "    \n",
    "    def __call__(self, X):\n",
    "        return self.predict(X)"
   ]
  },
  {
   "cell_type": "code",
   "execution_count": 7,
   "id": "8bb51461",
   "metadata": {},
   "outputs": [
    {
     "name": "stdout",
     "output_type": "stream",
     "text": [
      "Found toxic words: 128\n"
     ]
    }
   ],
   "source": [
    "# Train model\n",
    "model = ToxicWordRemover(std=0.2, mean=0.6, n_occurences=20)\n",
    "model.fit(X_train, y_train, with_scores=True)\n",
    "\n",
    "print('Found toxic words:', len(model.get_toxic_words()))"
   ]
  },
  {
   "cell_type": "markdown",
   "id": "f4454b34",
   "metadata": {},
   "source": [
    "# Make predictions and validate them\n",
    "\n",
    "To validate model I will use the same approach as defined in the initial paper (check `ToxicityMeasuring` for more information). Main idea is to get toxic scores for each message and then calculate basic statistics (such as mean/std) to identify how low toxicity becomes after model predictions. If theory `1.4` works, we will see decrease in such values compared to initial one."
   ]
  },
  {
   "cell_type": "code",
   "execution_count": 8,
   "id": "43b3bc8c",
   "metadata": {},
   "outputs": [
    {
     "data": {
      "text/plain": [
       "['one',\n",
       " 'minute',\n",
       " 'she',\n",
       " \"'s\",\n",
       " 'my',\n",
       " ',',\n",
       " 'uh',\n",
       " ',',\n",
       " 'my',\n",
       " 'little',\n",
       " 'girl',\n",
       " ',',\n",
       " 'and',\n",
       " 'then',\n",
       " 'the',\n",
       " 'next',\n",
       " 'minute',\n",
       " 'she',\n",
       " \"'s\",\n",
       " 'telling',\n",
       " 'me',\n",
       " 'to',\n",
       " 'go',\n",
       " ',',\n",
       " 'you',\n",
       " 'know',\n",
       " ',',\n",
       " 'screw',\n",
       " 'myself',\n",
       " '.']"
      ]
     },
     "execution_count": 8,
     "metadata": {},
     "output_type": "execute_result"
    }
   ],
   "source": [
    "# predict and show example\n",
    "predictions = model.predict(X_test.message)\n",
    "\n",
    "predictions[0]"
   ]
  },
  {
   "cell_type": "code",
   "execution_count": 9,
   "id": "82cd758f",
   "metadata": {},
   "outputs": [
    {
     "name": "stderr",
     "output_type": "stream",
     "text": [
      "2023-10-21 20:36:59.954415: I tensorflow/core/platform/cpu_feature_guard.cc:193] This TensorFlow binary is optimized with oneAPI Deep Neural Network Library (oneDNN) to use the following CPU instructions in performance-critical operations:  AVX2 FMA\n",
      "To enable them in other operations, rebuild TensorFlow with the appropriate compiler flags.\n",
      "2023-10-21 20:37:00.048101: W tensorflow/stream_executor/platform/default/dso_loader.cc:64] Could not load dynamic library 'libcudart.so.11.0'; dlerror: libcudart.so.11.0: cannot open shared object file: No such file or directory\n",
      "2023-10-21 20:37:00.048116: I tensorflow/stream_executor/cuda/cudart_stub.cc:29] Ignore above cudart dlerror if you do not have a GPU set up on your machine.\n",
      "2023-10-21 20:37:00.066238: E tensorflow/stream_executor/cuda/cuda_blas.cc:2981] Unable to register cuBLAS factory: Attempting to register factory for plugin cuBLAS when one has already been registered\n",
      "2023-10-21 20:37:00.430741: W tensorflow/stream_executor/platform/default/dso_loader.cc:64] Could not load dynamic library 'libnvinfer.so.7'; dlerror: libnvinfer.so.7: cannot open shared object file: No such file or directory\n",
      "2023-10-21 20:37:00.430792: W tensorflow/stream_executor/platform/default/dso_loader.cc:64] Could not load dynamic library 'libnvinfer_plugin.so.7'; dlerror: libnvinfer_plugin.so.7: cannot open shared object file: No such file or directory\n",
      "2023-10-21 20:37:00.430798: W tensorflow/compiler/tf2tensorrt/utils/py_utils.cc:38] TF-TRT Warning: Cannot dlopen some TensorRT libraries. If you would like to use Nvidia GPU with TensorRT, please make sure the missing libraries mentioned above are installed properly.\n",
      "Some weights of the model checkpoint at SkolkovoInstitute/roberta_toxicity_classifier were not used when initializing RobertaForSequenceClassification: ['roberta.pooler.dense.bias', 'roberta.pooler.dense.weight']\n",
      "- This IS expected if you are initializing RobertaForSequenceClassification from the checkpoint of a model trained on another task or with another architecture (e.g. initializing a BertForSequenceClassification model from a BertForPreTraining model).\n",
      "- This IS NOT expected if you are initializing RobertaForSequenceClassification from the checkpoint of a model that you expect to be exactly identical (initializing a BertForSequenceClassification model from a BertForSequenceClassification model).\n"
     ]
    }
   ],
   "source": [
    "# import all required libraries for validation\n",
    "import torch\n",
    "from transformers import AutoModelForSequenceClassification, AutoTokenizer\n",
    "from transformers import RobertaTokenizer, RobertaForSequenceClassification\n",
    "\n",
    "# initialize tokenizer and model from s-nlp/detox repository\n",
    "model_name = 'SkolkovoInstitute/roberta_toxicity_classifier'\n",
    "\n",
    "tokenizer = RobertaTokenizer.from_pretrained(model_name)\n",
    "model = RobertaForSequenceClassification.from_pretrained(model_name)"
   ]
  },
  {
   "cell_type": "code",
   "execution_count": 12,
   "id": "dc23b941",
   "metadata": {},
   "outputs": [
    {
     "name": "stderr",
     "output_type": "stream",
     "text": [
      "100%|██████████████████████████████████████████████████████████████████████████████████████████████████████████████████████████████| 656/656 [15:19<00:00,  1.40s/it]\n"
     ]
    }
   ],
   "source": [
    "from tqdm import tqdm\n",
    "\n",
    "# define batch size and join words in messages\n",
    "batch_size = 64\n",
    "answers = [' '.join(words) for words in predictions]\n",
    "scores = []\n",
    "\n",
    "for i in tqdm(range((len(answers) + batch_size - 1) // batch_size)):\n",
    "    batch = answers[i * batch_size:(i + 1) * batch_size]\n",
    "\n",
    "    # run sample batch from tokenizer & model (and calculate results)\n",
    "    tokens = tokenizer(text=batch, return_tensors='pt', padding=True)\n",
    "    \n",
    "    with torch.inference_mode():\n",
    "        logits = model(**tokens).logits\n",
    "    scores.extend(list(torch.softmax(logits, -1)[:, 1].cpu().numpy()))"
   ]
  },
  {
   "cell_type": "code",
   "execution_count": 73,
   "id": "b47aced3",
   "metadata": {},
   "outputs": [
    {
     "data": {
      "text/plain": [
       "(array([18570.,  1140.,   621.,   469.,   468.,   495.,   532.,   821.,\n",
       "         1491., 17343.]),\n",
       " array([3.27214839e-05, 9.99860168e-02, 1.99939311e-01, 2.99892604e-01,\n",
       "        3.99845898e-01, 4.99799192e-01, 5.99752486e-01, 6.99705780e-01,\n",
       "        7.99659073e-01, 8.99612367e-01, 9.99565661e-01]),\n",
       " <BarContainer object of 10 artists>)"
      ]
     },
     "execution_count": 73,
     "metadata": {},
     "output_type": "execute_result"
    },
    {
     "data": {
      "image/png": "[encoded data removed]",
      "text/plain": [
       "<Figure size 640x480 with 2 Axes>"
      ]
     },
     "metadata": {},
     "output_type": "display_data"
    }
   ],
   "source": [
    "import matplotlib.pyplot as plt\n",
    "\n",
    "fig, axs = plt.subplots(2, sharex=True)\n",
    "\n",
    "axs[1].set_title('Expected scores')\n",
    "axs[1].hist(y_test.tox_score)\n",
    "\n",
    "axs[0].set_title('Toxicity scores of predictions')\n",
    "axs[0].hist(scores)"
   ]
  },
  {
   "cell_type": "code",
   "execution_count": 71,
   "id": "4861aff7",
   "metadata": {},
   "outputs": [
    {
     "name": "stdout",
     "output_type": "stream",
     "text": [
      "Type \t/ mean / std\n",
      "Initial:  0.9665 0.0489\n",
      "Resulted: 0.4864 0.4607\n",
      "Expected: 0.0199 0.0384\n"
     ]
    }
   ],
   "source": [
    "scores = np.array(scores)\n",
    "\n",
    "\n",
    "def print_stats(arr, start: str = \"\", round_lim: int = 4):\n",
    "    mean = round(float(arr.mean()), round_lim)\n",
    "    std = round(float(arr.std()), round_lim)\n",
    "    print(start + f\"{mean} {std}\")\n",
    "\n",
    "\n",
    "print('Type \\t/ mean / std')\n",
    "print_stats(X_test.tox_score, 'Initial:  ')\n",
    "print_stats(scores, 'Resulted: ')\n",
    "print_stats(y_test.tox_score, 'Expected: ')"
   ]
  },
  {
   "cell_type": "markdown",
   "id": "2eea209f",
   "metadata": {},
   "source": [
    "# Outcomes of the session\n",
    "\n",
    "We can see that our baseline model reduced toxicity from high to low on almost half of the sentences. Which is proving out hypothesys 1.4 seems to be right. However there is also other half of messages that are still defined as toxic even after curse/high-correlation words removal. For that reason, we should test another solution (for example any architecture analyzed in `ArchitectureAnalysis` notebook). For such reason, we can test hypothesis that deep-learning model with memory cells can reduce toxicity even lower. But for now, we achieved mean toxicity score drop from `0.9665` to `0.4864` (judging by `SkolkovoInstitute/roberta_toxicity_classifier`)"
   ]
  },
  {
   "cell_type": "markdown",
   "id": "a9436f43",
   "metadata": {},
   "source": [
    "# Credits\n",
    "\n",
    "Notebook created by Polina Zelenskaya\\\n",
    "Innopolis University DS21-03\n",
    "\n",
    "Github: [github.com/cutefluffyfox](https://github.com/cutefluffyfox)\\\n",
    "Email: p.zelenskaya@innopolis.university\n"
   ]
  },
  {
   "cell_type": "code",
   "execution_count": null,
   "id": "6f0bd555",
   "metadata": {},
   "outputs": [],
   "source": []
  }
 ],
 "metadata": {
  "kernelspec": {
   "display_name": "Python 3 (ipykernel)",
   "language": "python",
   "name": "python3"
  },
  "language_info": {
   "codemirror_mode": {
    "name": "ipython",
    "version": 3
   },
   "file_extension": ".py",
   "mimetype": "text/x-python",
   "name": "python",
   "nbconvert_exporter": "python",
   "pygments_lexer": "ipython3",
   "version": "3.10.12"
  }
 },
 "nbformat": 4,
 "nbformat_minor": 5
}
