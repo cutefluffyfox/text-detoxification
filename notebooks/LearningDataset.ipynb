{
 "cells": [
  {
   "cell_type": "markdown",
   "id": "adb181df",
   "metadata": {},
   "source": [
    "# Learning dataset\n",
    "\n",
    "The main goal of this notebook is to explore dataset and understand data, how to preprocess it, and just find try to find some patterns.\n",
    "\n",
    "Prerequirements to run this notebook:\n",
    "* download all libraries mentioned in `requirements.txt`\n",
    "* download [filtered ParaNMT-detox corpus dataset](https://github.com/skoltech-nlp/detox/releases/download/emnlp2021/filtered_paranmt.zip)\n",
    "* unzip archive via graphical interface (ui.py) or just by hands to a directory `../data/raw/filtered_paranmt/filtered.tsv`\n",
    "\n",
    "Basic information about the dataset\n",
    "* `reference` (str) - First item from the pair\n",
    "* `ref_tox` (float) - toxicity level of reference text\n",
    "* `translation` (str) - second item from the pair - paraphrazed version of the reference\n",
    "* `trn_tox` (float) - toxicity level of translation text\n",
    "* `similarity` (float) - cosine similarity of the texts\n",
    "* `lenght_diff` (float) - relative length difference between texts"
   ]
  },
  {
   "cell_type": "code",
   "execution_count": 75,
   "id": "e14d371a",
   "metadata": {},
   "outputs": [
    {
     "data": {
      "text/html": [
       "<div>\n",
       "<style scoped>\n",
       "    .dataframe tbody tr th:only-of-type {\n",
       "        vertical-align: middle;\n",
       "    }\n",
       "\n",
       "    .dataframe tbody tr th {\n",
       "        vertical-align: top;\n",
       "    }\n",
       "\n",
       "    .dataframe thead th {\n",
       "        text-align: right;\n",
       "    }\n",
       "</style>\n",
       "<table border=\"1\" class=\"dataframe\">\n",
       "  <thead>\n",
       "    <tr style=\"text-align: right;\">\n",
       "      <th></th>\n",
       "      <th>reference</th>\n",
       "      <th>translation</th>\n",
       "      <th>similarity</th>\n",
       "      <th>lenght_diff</th>\n",
       "      <th>ref_tox</th>\n",
       "      <th>trn_tox</th>\n",
       "    </tr>\n",
       "  </thead>\n",
       "  <tbody>\n",
       "    <tr>\n",
       "      <th>0</th>\n",
       "      <td>If Alkar is flooding her with psychic waste, t...</td>\n",
       "      <td>if Alkar floods her with her mental waste, it ...</td>\n",
       "      <td>0.785171</td>\n",
       "      <td>0.010309</td>\n",
       "      <td>0.014195</td>\n",
       "      <td>0.981983</td>\n",
       "    </tr>\n",
       "    <tr>\n",
       "      <th>1</th>\n",
       "      <td>Now you're getting nasty.</td>\n",
       "      <td>you're becoming disgusting.</td>\n",
       "      <td>0.749687</td>\n",
       "      <td>0.071429</td>\n",
       "      <td>0.065473</td>\n",
       "      <td>0.999039</td>\n",
       "    </tr>\n",
       "    <tr>\n",
       "      <th>2</th>\n",
       "      <td>Well, we could spare your life, for one.</td>\n",
       "      <td>well, we can spare your life.</td>\n",
       "      <td>0.919051</td>\n",
       "      <td>0.268293</td>\n",
       "      <td>0.213313</td>\n",
       "      <td>0.985068</td>\n",
       "    </tr>\n",
       "    <tr>\n",
       "      <th>3</th>\n",
       "      <td>Ah! Monkey, you've got to snap out of it.</td>\n",
       "      <td>monkey, you have to wake up.</td>\n",
       "      <td>0.664333</td>\n",
       "      <td>0.309524</td>\n",
       "      <td>0.053362</td>\n",
       "      <td>0.994215</td>\n",
       "    </tr>\n",
       "    <tr>\n",
       "      <th>4</th>\n",
       "      <td>I've got orders to put her down.</td>\n",
       "      <td>I have orders to kill her.</td>\n",
       "      <td>0.726639</td>\n",
       "      <td>0.181818</td>\n",
       "      <td>0.009402</td>\n",
       "      <td>0.999348</td>\n",
       "    </tr>\n",
       "  </tbody>\n",
       "</table>\n",
       "</div>"
      ],
      "text/plain": [
       "                                           reference  \\\n",
       "0  If Alkar is flooding her with psychic waste, t...   \n",
       "1                          Now you're getting nasty.   \n",
       "2           Well, we could spare your life, for one.   \n",
       "3          Ah! Monkey, you've got to snap out of it.   \n",
       "4                   I've got orders to put her down.   \n",
       "\n",
       "                                         translation  similarity  lenght_diff  \\\n",
       "0  if Alkar floods her with her mental waste, it ...    0.785171     0.010309   \n",
       "1                        you're becoming disgusting.    0.749687     0.071429   \n",
       "2                      well, we can spare your life.    0.919051     0.268293   \n",
       "3                       monkey, you have to wake up.    0.664333     0.309524   \n",
       "4                         I have orders to kill her.    0.726639     0.181818   \n",
       "\n",
       "    ref_tox   trn_tox  \n",
       "0  0.014195  0.981983  \n",
       "1  0.065473  0.999039  \n",
       "2  0.213313  0.985068  \n",
       "3  0.053362  0.994215  \n",
       "4  0.009402  0.999348  "
      ]
     },
     "execution_count": 75,
     "metadata": {},
     "output_type": "execute_result"
    }
   ],
   "source": [
    "import pandas as pd\n",
    "\n",
    "df = pd.read_table('../data/raw/filtered_paranmt/filtered.tsv', index_col=0)\n",
    "\n",
    "df.head()"
   ]
  },
  {
   "cell_type": "markdown",
   "id": "0d5d93da",
   "metadata": {},
   "source": [
    "# Statistics for numerical features \n",
    "\n",
    "In this block we will look at the numerical features `similarity`, `lenght_diff`, `ref_tox` and `trn_tox`. Main goal is to understand data better and determine appropriate preprocessing techniques to use."
   ]
  },
  {
   "cell_type": "code",
   "execution_count": 19,
   "id": "60c5b0e5",
   "metadata": {},
   "outputs": [
    {
     "data": {
      "text/plain": [
       "reference      False\n",
       "translation    False\n",
       "similarity     False\n",
       "lenght_diff    False\n",
       "ref_tox        False\n",
       "trn_tox        False\n",
       "dtype: bool"
      ]
     },
     "execution_count": 19,
     "metadata": {},
     "output_type": "execute_result"
    }
   ],
   "source": [
    "# check if any null values exists\n",
    "df.isna().any()"
   ]
  },
  {
   "cell_type": "code",
   "execution_count": 45,
   "id": "8053bc35",
   "metadata": {},
   "outputs": [
    {
     "data": {
      "text/plain": [
       "count    577777.000000\n",
       "mean          0.758469\n",
       "std           0.092695\n",
       "min           0.600001\n",
       "25%           0.681105\n",
       "50%           0.754439\n",
       "75%           0.831244\n",
       "max           0.950000\n",
       "Name: similarity, dtype: float64"
      ]
     },
     "execution_count": 45,
     "metadata": {},
     "output_type": "execute_result"
    }
   ],
   "source": [
    "# determine how 'different' references from a translation\n",
    "df.similarity.describe()"
   ]
  },
  {
   "cell_type": "code",
   "execution_count": 70,
   "id": "9d268635",
   "metadata": {},
   "outputs": [
    {
     "data": {
      "text/plain": [
       "count    577777.000000\n",
       "mean          0.157652\n",
       "std           0.108057\n",
       "min           0.000000\n",
       "25%           0.066667\n",
       "50%           0.141791\n",
       "75%           0.238095\n",
       "max           0.400000\n",
       "Name: lenght_diff, dtype: float64"
      ]
     },
     "execution_count": 70,
     "metadata": {},
     "output_type": "execute_result"
    }
   ],
   "source": [
    "# see how toxic and non-toxis messages differs in length\n",
    "df.lenght_diff.describe()"
   ]
  },
  {
   "cell_type": "code",
   "execution_count": 37,
   "id": "0f203942",
   "metadata": {},
   "outputs": [
    {
     "name": "stdout",
     "output_type": "stream",
     "text": [
      "count    577777.000000\n",
      "mean          0.541372\n",
      "std           0.457571\n",
      "min           0.000033\n",
      "25%           0.012171\n",
      "50%           0.806795\n",
      "75%           0.990469\n",
      "max           0.999724\n",
      "Name: ref_tox, dtype: float64\n"
     ]
    },
    {
     "data": {
      "text/plain": [
       "<AxesSubplot: ylabel='Frequency'>"
      ]
     },
     "execution_count": 37,
     "metadata": {},
     "output_type": "execute_result"
    },
    {
     "data": {
      "image/png": "[encoded data removed]",
      "text/plain": [
       "<Figure size 640x480 with 1 Axes>"
      ]
     },
     "metadata": {},
     "output_type": "display_data"
    }
   ],
   "source": [
    "# determine how 'toxic' initial references (trying to find outliers)\n",
    "print(df.ref_tox.describe())\n",
    "\n",
    "df.ref_tox.plot.hist()"
   ]
  },
  {
   "cell_type": "code",
   "execution_count": 39,
   "id": "ccf35b81",
   "metadata": {},
   "outputs": [
    {
     "name": "stdout",
     "output_type": "stream",
     "text": [
      "count    577777.000000\n",
      "mean          0.434490\n",
      "std           0.458904\n",
      "min           0.000033\n",
      "25%           0.000707\n",
      "50%           0.085133\n",
      "75%           0.973739\n",
      "max           0.999730\n",
      "Name: trn_tox, dtype: float64\n"
     ]
    },
    {
     "data": {
      "text/plain": [
       "<AxesSubplot: ylabel='Frequency'>"
      ]
     },
     "execution_count": 39,
     "metadata": {},
     "output_type": "execute_result"
    },
    {
     "data": {
      "image/png": "[encoded data removed]",
      "text/plain": [
       "<Figure size 640x480 with 1 Axes>"
      ]
     },
     "metadata": {},
     "output_type": "display_data"
    }
   ],
   "source": [
    "# determine how 'toxic' translations are (also trying to find outliers)\n",
    "print(df.trn_tox.describe())\n",
    "\n",
    "df.trn_tox.plot.hist()"
   ]
  },
  {
   "cell_type": "markdown",
   "id": "8860b748",
   "metadata": {},
   "source": [
    "### Basic conclusions\n",
    "\n",
    "First observation is that there are no null values, yay.\n",
    "\n",
    "Second is that `reference` and `translation` texts on average provide 75% simmilarity (with 9% std), which is pretty good. Also percentile statistics showed that there are no 'radical' outliers in text differences (as lowest score is 0.6 with mean=0.75 and std=0.09).\n",
    "\n",
    "Worth mentioning is that `ref_tox` and `trn_tox` values are mixed. From my initial understanding of the dataset, I got an idea that `translation` messages are meant to be the toxic one, when `references` otherwise. However this idea is false as we can see from the descriptions above. Also in both `ref_tox`  and `trn_tox` we can see that values tend to 0 or 1, so in preprocessing step we should consider what to do with values in between.\n",
    "\n",
    "We can also see that toxic and non-toxic texts differs in length, however I failed to understand how score is calculated. So for this iteration I will ingone `lenght_diff` feature.\n",
    "\n",
    "Data _seems to_ have little-to-no outliers based on statistics seen above. Nevertheless, some edge-cases should be considered/filtered (such as 0.5 toxisity rated) in preprocessing step just to be safe.\n",
    "\n",
    "### Initial hypothesys for data preprocessing \\[1\\]\n",
    "\n",
    "1.1. Swapping features `reference` and `translation` to a `toxic` and `non-toxic` based on a `ref_tox` and `trn_tox` values should be more helpfull, that supposing that whole `regerence`'s are non-toxic, and `translation` is toxic\n",
    "\n",
    "1.2 Threashold of 'toxisity difference' (absolute/square difference between `fev_tox` and `trn_tox`) could help to make data more representable\n",
    "\n",
    "1.3 Threashold of `simmilarity` can help to remove outliers from the data and make translation keep more sense\n",
    "\n"
   ]
  },
  {
   "cell_type": "markdown",
   "id": "74640e4f",
   "metadata": {},
   "source": [
    "# Statistics for text features\n",
    "\n",
    "Analyzing`reference` and `translation` features. Trying to find some patterns in single-words usage."
   ]
  },
  {
   "cell_type": "code",
   "execution_count": 84,
   "id": "a404a8ea",
   "metadata": {},
   "outputs": [],
   "source": [
    "from nltk.tokenize import word_tokenize\n",
    "\n",
    "# tokenize just for better stats\n",
    "df['ref_tok'] = df.reference.str.lower().apply(word_tokenize)\n",
    "df['trn_tok'] = df.translation.str.lower().apply(word_tokenize)"
   ]
  },
  {
   "cell_type": "code",
   "execution_count": 102,
   "id": "8798af83",
   "metadata": {},
   "outputs": [],
   "source": [
    "from nltk.probability import FreqDist\n",
    "from itertools import chain\n",
    "\n",
    "# calculate words frequency for reference/translation and total\n",
    "ref_fd = FreqDist(chain.from_iterable(df.ref_tok))\n",
    "trn_fd = FreqDist(chain.from_iterable(df.trn_tok))\n",
    "\n",
    "fd = (trn_fd + ref_fd)"
   ]
  },
  {
   "cell_type": "code",
   "execution_count": 103,
   "id": "7f741c5a",
   "metadata": {},
   "outputs": [
    {
     "data": {
      "text/plain": [
       "[('.', 878932),\n",
       " (',', 723660),\n",
       " ('you', 468420),\n",
       " ('the', 440699),\n",
       " ('i', 359454),\n",
       " ('a', 314563),\n",
       " ('to', 287847),\n",
       " ('and', 263704),\n",
       " ('of', 187476),\n",
       " (\"'s\", 183490),\n",
       " ('?', 182180),\n",
       " ('it', 161660),\n",
       " (\"n't\", 141492),\n",
       " ('he', 140435),\n",
       " ('in', 137649),\n",
       " ('that', 132509),\n",
       " ('!', 131892),\n",
       " ('do', 114825),\n",
       " ('your', 110881),\n",
       " ('...', 105844),\n",
       " ('me', 104992),\n",
       " ('is', 97490),\n",
       " ('my', 90528),\n",
       " ('with', 85907),\n",
       " (\"'re\", 83004),\n",
       " ('was', 82462),\n",
       " ('we', 78684),\n",
       " ('have', 77793),\n",
       " ('for', 75958),\n",
       " ('this', 75750),\n",
       " ('be', 73601),\n",
       " ('on', 72920),\n",
       " ('if', 72415),\n",
       " ('what', 72040),\n",
       " ('``', 69080),\n",
       " ('like', 65820),\n",
       " ('him', 64641),\n",
       " ('they', 63591),\n",
       " ('but', 62660),\n",
       " (\"'m\", 62423),\n",
       " ('his', 60380),\n",
       " ('out', 57146),\n",
       " ('are', 54976),\n",
       " ('up', 54301),\n",
       " ('her', 53517),\n",
       " (\"''\", 52661),\n",
       " ('not', 52369),\n",
       " (\"'ll\", 51828),\n",
       " ('get', 51281),\n",
       " ('all', 48532),\n",
       " ('so', 48486),\n",
       " ('she', 47647),\n",
       " ('just', 44800),\n",
       " ('know', 43144),\n",
       " ('as', 38371),\n",
       " ('who', 38074),\n",
       " ('one', 37379),\n",
       " ('want', 37123),\n",
       " ('or', 36249),\n",
       " ('will', 36191),\n",
       " ('did', 35979),\n",
       " ('at', 35893),\n",
       " ('about', 34959),\n",
       " ('hell', 34907),\n",
       " ('would', 34755),\n",
       " ('when', 34335),\n",
       " ('them', 33869),\n",
       " ('can', 33439),\n",
       " ('there', 33342),\n",
       " ('na', 32723),\n",
       " ('here', 32301),\n",
       " ('no', 32226),\n",
       " ('shit', 31534),\n",
       " ('fucking', 31195),\n",
       " ('an', 30776),\n",
       " ('gon', 29915),\n",
       " ('kill', 29508),\n",
       " ('had', 29037),\n",
       " ('from', 28576),\n",
       " ('man', 28278),\n",
       " ('now', 26694),\n",
       " ('were', 26007),\n",
       " ('got', 25983),\n",
       " ('think', 25572),\n",
       " ('go', 25153),\n",
       " ('going', 25003),\n",
       " ('then', 24955),\n",
       " ('off', 23295),\n",
       " ('how', 23253),\n",
       " ('could', 22830),\n",
       " (\"'ve\", 22599),\n",
       " ('damn', 21910),\n",
       " (\"'d\", 21846),\n",
       " ('because', 21818),\n",
       " ('us', 21180),\n",
       " ('little', 20313),\n",
       " ('fuck', 20139),\n",
       " ('why', 20108),\n",
       " (\"'\", 20056),\n",
       " ('die', 19933)]"
      ]
     },
     "execution_count": 103,
     "metadata": {},
     "output_type": "execute_result"
    }
   ],
   "source": [
    "# see most common words in the dataset, and just determine what to include in stop words\n",
    "fd.most_common(100)"
   ]
  },
  {
   "cell_type": "code",
   "execution_count": 156,
   "id": "db68814e",
   "metadata": {},
   "outputs": [],
   "source": [
    "import numpy as np\n",
    "\n",
    "# calculate mean/std toxisity levels for each word (from most popular one)\n",
    "word_tox = dict()\n",
    "\n",
    "# for each row in dataset\n",
    "for (_, _, _, _, ref_tox, trn_tox, ref_tok, trn_tok) in df.values:\n",
    "    \n",
    "    # for readibility\n",
    "    grouped_data = [(ref_tok, ref_tox), (trn_tok, trn_tox)]\n",
    "    \n",
    "    # iterate through all tokens and add their' toxisity value to dict\n",
    "    for (words, tox_level) in grouped_data:\n",
    "        for word in words:\n",
    "            \n",
    "            if word not in word_tox:\n",
    "                word_tox[word] = []\n",
    "            \n",
    "            word_tox[word].append(tox_level)\n",
    "\n",
    "# convert all values to numpy for faster statistics\n",
    "for word in word_tox:\n",
    "    word_tox[word] = np.array(word_tox[word])"
   ]
  },
  {
   "cell_type": "code",
   "execution_count": 209,
   "id": "76c6c6ea",
   "metadata": {},
   "outputs": [
    {
     "name": "stdout",
     "output_type": "stream",
     "text": [
      "ass       \t0.987\t0.071\n",
      "crap      \t0.952\t0.163\n",
      "shit      \t0.988\t0.065\n",
      "bitch     \t0.992\t0.061\n",
      "fuck      \t0.991\t0.067\n",
      "fucking   \t0.973\t0.106\n",
      "bastard   \t0.970\t0.137\n",
      "fools     \t0.949\t0.177\n",
      "'shut     \t0.973\t0.131\n",
      "damn      \t0.936\t0.194\n",
      "stupid    \t0.968\t0.145\n",
      "whore     \t0.961\t0.155\n",
      "motherfucker\t0.999\t0.002\n",
      "pussy     \t0.992\t0.065\n",
      "fucked    \t0.989\t0.064\n",
      "bullshit  \t0.990\t0.052\n",
      "goddamn   \t0.985\t0.053\n",
      "fuckin    \t0.952\t0.131\n",
      "asshole   \t0.988\t0.074\n",
      "idiot     \t0.971\t0.136\n",
      "dumbass   \t0.990\t0.071\n",
      "ridiculous\t0.922\t0.182\n",
      "shits     \t0.933\t0.196\n",
      "ejaculated\t0.894\t0.193\n",
      "idiots    \t0.996\t0.047\n",
      "bitches   \t0.981\t0.111\n",
      "pathetic  \t0.977\t0.085\n",
      "penises   \t0.954\t0.156\n",
      "faggot    \t0.995\t0.010\n",
      "dammit    \t0.993\t0.056\n",
      "pussies   \t0.989\t0.060\n",
      "dumb-ass  \t0.998\t0.008\n",
      "bastards  \t0.986\t0.093\n",
      "jerk-off  \t0.954\t0.160\n",
      "whores    \t0.962\t0.145\n",
      "scumbag   \t0.998\t0.006\n",
      "fuck-up   \t0.956\t0.146\n",
      "assholes  \t0.989\t0.071\n",
      "repugnant \t0.919\t0.142\n",
      "fags      \t0.988\t0.066\n",
      "traitorous\t0.905\t0.178\n",
      "penis     \t0.944\t0.192\n",
      "motherfuckers\t0.998\t0.013\n",
      "fag       \t0.973\t0.120\n",
      "fucked-up \t0.988\t0.058\n",
      "buffoon   \t0.953\t0.155\n",
      "hag       \t0.932\t0.180\n",
      "jerks     \t0.965\t0.148\n",
      "moron     \t0.978\t0.114\n",
      "-shut     \t0.982\t0.126\n",
      "dicks     \t0.994\t0.013\n",
      "bloodsucker\t0.927\t0.156\n",
      "stupidity \t0.985\t0.094\n",
      "fucker    \t0.996\t0.042\n",
      "fuckers   \t0.998\t0.005\n",
      "shithole  \t0.978\t0.063\n",
      "scum      \t0.988\t0.053\n",
      "arsehole  \t0.982\t0.038\n",
      "'fuck     \t0.999\t0.001\n",
      "wuss      \t0.953\t0.143\n",
      "morons    \t0.992\t0.066\n",
      "arse      \t0.946\t0.188\n",
      "damnit    \t0.988\t0.021\n",
      "sluts     \t0.967\t0.121\n",
      "stupidly  \t0.937\t0.166\n",
      "idiotic   \t0.978\t0.106\n",
      "2girls1cup\t0.967\t0.078\n",
      "wwe       \t0.967\t0.078\n",
      "hentai    \t0.967\t0.078\n",
      "enrique   \t0.924\t0.200\n",
      "iglesias  \t0.927\t0.198\n",
      "basshunter\t0.962\t0.103\n",
      "akon      \t0.958\t0.118\n",
      "butthole  \t0.941\t0.188\n",
      "motherfucking\t0.991\t0.016\n",
      "fucks     \t0.964\t0.149\n",
      "dumbest   \t0.957\t0.175\n",
      "wanker    \t0.951\t0.175\n",
      "scumbags  \t0.989\t0.076\n",
      "blowjobs  \t0.971\t0.125\n",
      "pigheaded \t0.963\t0.057\n",
      "goddamnit \t0.932\t0.122\n",
      "blowjob   \t0.970\t0.139\n",
      "idiocy    \t0.976\t0.125\n",
      "dumber    \t0.947\t0.170\n",
      "crackhead \t0.920\t0.182\n",
      "fatass    \t0.936\t0.177\n",
      "wank      \t0.928\t0.183\n",
      "son-of-a-bitch\t0.997\t0.005\n",
      "hypocrite \t0.935\t0.189\n",
      "stupidest \t0.996\t0.017\n",
      "faggots   \t0.980\t0.058\n",
      "motherfuckin\t0.982\t0.019\n",
      "fat-ass   \t0.986\t0.028\n",
      "crazy-ass \t0.948\t0.125\n",
      "damnedest \t0.946\t0.077\n",
      "masturbate\t0.959\t0.174\n",
      "sissies   \t0.988\t0.012\n",
      "hypocrites\t0.930\t0.181\n",
      "shithead  \t0.972\t0.142\n",
      "horseshit \t0.949\t0.150\n",
      "dipshit   \t0.960\t0.159\n",
      "wankers   \t0.978\t0.047\n"
     ]
    }
   ],
   "source": [
    "# highlight words with high toxisity level (>0.6) and low std (<0.2) for common words (>50)\n",
    "# all such perparameters for filtering could be tuned \n",
    "for word, tox_levels in word_tox.items():\n",
    "    if tox_levels.std() < 0.2 and tox_levels.mean() > 0.6 and tox_levels.size > 50:\n",
    "        print('{}\\t{:.3f}\\t{:.3f}'.format(word.ljust(10, ' '), tox_levels.mean(), tox_levels.std()))"
   ]
  },
  {
   "cell_type": "markdown",
   "id": "5cc1c506",
   "metadata": {},
   "source": [
    "### Basic conclusions\n",
    "\n",
    "It's fair to say that some words appear mostly in 'classified-as-toxic' sentences. As we can see from above, most of them are curse words. Most of the words the algorithm filtered resulted with high mean toxicity-value (>0.9) and low standard deviation (<0.2) even with loose parameters. This shows strong correlation between such words and toxic value.\n",
    "\n",
    "Context-dependend words such as 'kill' didn't resulted in a high-mean-low-std (HMLS) list, which shows that sigle-word analysis is not enought to remove toxicity from the given queries. Bigrams and more advanced techniques should be used to analyse and preprocess dataset better.\n",
    "\n",
    "Dataset is biased towards some topics: WWE (wrestling company) and Enrique (I can guess a celebrity) resulted in a list of of HMLS-words, which ideally should not happen. So such things should be considered during evaluation."
   ]
  },
  {
   "cell_type": "markdown",
   "id": "03166f49",
   "metadata": {},
   "source": [
    "# Outcomes of the session \n",
    "1.1 During data preprocessing introduce new features `toxic` and `non-toxic` based on `ref_tox` and `trn_tox` scores.\n",
    "\n",
    "1.2 Introduce `toxisity_difference` threashold duting preprocessing.\n",
    "\n",
    "1.3 Tune which `simmilarity` value to consider in order to save sence of the sentences.\n",
    "\n",
    "1.4 Some of the curse words tend to results in higher toxicity rate, so emphasizing and removing such words may increase model \n",
    "performance.\n",
    "\n",
    "1.5 Further analysis of bigrams and other more complex word combinations should be considered in order to find more patterns in data.\n",
    "\n",
    "1.6 Baseline solution may be a dict of all high-mean-low-std words that should be replaced to synonims or just removed\n"
   ]
  },
  {
   "cell_type": "markdown",
   "id": "6fb0d4aa",
   "metadata": {},
   "source": [
    "# Credits\n",
    "\n",
    "Notebook created by Polina Zelenskaya\\\n",
    "Innopolis University DS21-03\n",
    "\n",
    "Github: [github.com/cutefluffyfox](https://github.com/cutefluffyfox)\\\n",
    "Email: p.zelenskaya@innopolis.university\n"
   ]
  },
  {
   "cell_type": "code",
   "execution_count": null,
   "id": "b0e5fb8a",
   "metadata": {},
   "outputs": [],
   "source": []
  }
 ],
 "metadata": {
  "kernelspec": {
   "display_name": "Python 3 (ipykernel)",
   "language": "python",
   "name": "python3"
  },
  "language_info": {
   "codemirror_mode": {
    "name": "ipython",
    "version": 3
   },
   "file_extension": ".py",
   "mimetype": "text/x-python",
   "name": "python",
   "nbconvert_exporter": "python",
   "pygments_lexer": "ipython3",
   "version": "3.10.12"
  }
 },
 "nbformat": 4,
 "nbformat_minor": 5
}
