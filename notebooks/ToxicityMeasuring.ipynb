{
 "cells": [
  {
   "cell_type": "markdown",
   "id": "d04cf70d",
   "metadata": {},
   "source": [
    "# Identifying toxicity metric\n",
    "\n",
    "The main goal of this notebook is to identify how to measure toxicity rate of a sentence, what techniquest already exists and whether it's bennificial to use already-existed models.\n",
    "\n",
    "Prerequirements to run this notebook:\n",
    "* download all libraries mentioned in `requirements.txt`\n",
    "* download [filtered ParaNMT-detox corpus dataset](https://github.com/skoltech-nlp/detox/releases/download/emnlp2021/filtered_paranmt.zip)\n",
    "* unzip archive via graphical interface (ui.py) or just by hands to a directory `../data/raw/filtered_paranmt/filtered.tsv`\n",
    "\n",
    "Basic information about the dataset\n",
    "* `reference` (str) - First item from the pair\n",
    "* `ref_tox` (float) - toxicity level of reference text\n",
    "* `translation` (str) - second item from the pair - paraphrazed version of the reference\n",
    "* `trn_tox` (float) - toxicity level of translation text\n",
    "* `similarity` (float) - cosine similarity of the texts\n",
    "* `lenght_diff` (float) - relative length difference between texts\n"
   ]
  },
  {
   "cell_type": "code",
   "execution_count": 5,
   "id": "5c7c7a73",
   "metadata": {},
   "outputs": [
    {
     "data": {
      "text/html": [
       "<div>\n",
       "<style scoped>\n",
       "    .dataframe tbody tr th:only-of-type {\n",
       "        vertical-align: middle;\n",
       "    }\n",
       "\n",
       "    .dataframe tbody tr th {\n",
       "        vertical-align: top;\n",
       "    }\n",
       "\n",
       "    .dataframe thead th {\n",
       "        text-align: right;\n",
       "    }\n",
       "</style>\n",
       "<table border=\"1\" class=\"dataframe\">\n",
       "  <thead>\n",
       "    <tr style=\"text-align: right;\">\n",
       "      <th></th>\n",
       "      <th>reference</th>\n",
       "      <th>translation</th>\n",
       "      <th>similarity</th>\n",
       "      <th>lenght_diff</th>\n",
       "      <th>ref_tox</th>\n",
       "      <th>trn_tox</th>\n",
       "    </tr>\n",
       "  </thead>\n",
       "  <tbody>\n",
       "    <tr>\n",
       "      <th>0</th>\n",
       "      <td>If Alkar is flooding her with psychic waste, t...</td>\n",
       "      <td>if Alkar floods her with her mental waste, it ...</td>\n",
       "      <td>0.785171</td>\n",
       "      <td>0.010309</td>\n",
       "      <td>0.014195</td>\n",
       "      <td>0.981983</td>\n",
       "    </tr>\n",
       "    <tr>\n",
       "      <th>1</th>\n",
       "      <td>Now you're getting nasty.</td>\n",
       "      <td>you're becoming disgusting.</td>\n",
       "      <td>0.749687</td>\n",
       "      <td>0.071429</td>\n",
       "      <td>0.065473</td>\n",
       "      <td>0.999039</td>\n",
       "    </tr>\n",
       "    <tr>\n",
       "      <th>2</th>\n",
       "      <td>Well, we could spare your life, for one.</td>\n",
       "      <td>well, we can spare your life.</td>\n",
       "      <td>0.919051</td>\n",
       "      <td>0.268293</td>\n",
       "      <td>0.213313</td>\n",
       "      <td>0.985068</td>\n",
       "    </tr>\n",
       "    <tr>\n",
       "      <th>3</th>\n",
       "      <td>Ah! Monkey, you've got to snap out of it.</td>\n",
       "      <td>monkey, you have to wake up.</td>\n",
       "      <td>0.664333</td>\n",
       "      <td>0.309524</td>\n",
       "      <td>0.053362</td>\n",
       "      <td>0.994215</td>\n",
       "    </tr>\n",
       "    <tr>\n",
       "      <th>4</th>\n",
       "      <td>I've got orders to put her down.</td>\n",
       "      <td>I have orders to kill her.</td>\n",
       "      <td>0.726639</td>\n",
       "      <td>0.181818</td>\n",
       "      <td>0.009402</td>\n",
       "      <td>0.999348</td>\n",
       "    </tr>\n",
       "  </tbody>\n",
       "</table>\n",
       "</div>"
      ],
      "text/plain": [
       "                                           reference  \\\n",
       "0  If Alkar is flooding her with psychic waste, t...   \n",
       "1                          Now you're getting nasty.   \n",
       "2           Well, we could spare your life, for one.   \n",
       "3          Ah! Monkey, you've got to snap out of it.   \n",
       "4                   I've got orders to put her down.   \n",
       "\n",
       "                                         translation  similarity  lenght_diff  \\\n",
       "0  if Alkar floods her with her mental waste, it ...    0.785171     0.010309   \n",
       "1                        you're becoming disgusting.    0.749687     0.071429   \n",
       "2                      well, we can spare your life.    0.919051     0.268293   \n",
       "3                       monkey, you have to wake up.    0.664333     0.309524   \n",
       "4                         I have orders to kill her.    0.726639     0.181818   \n",
       "\n",
       "    ref_tox   trn_tox  \n",
       "0  0.014195  0.981983  \n",
       "1  0.065473  0.999039  \n",
       "2  0.213313  0.985068  \n",
       "3  0.053362  0.994215  \n",
       "4  0.009402  0.999348  "
      ]
     },
     "execution_count": 5,
     "metadata": {},
     "output_type": "execute_result"
    }
   ],
   "source": [
    "import pandas as pd\n",
    "\n",
    "df = pd.read_table('../data/raw/filtered_paranmt/filtered.tsv', index_col=0)\n",
    "\n",
    "df.head()"
   ]
  },
  {
   "cell_type": "markdown",
   "id": "25c28ec2",
   "metadata": {},
   "source": [
    "# How initial score was calculated\n",
    "\n",
    "We can see that dataset already containing toxicity rate columns (`tef_tox` and `trn_tox`). It would be nice if we can calculate toxicity rate the same way as it is in the dataset, so let's deep into it. The first version of the dataset was initially [published](https://aclanthology.org/P18-1042.pdf) by John Wieting and Kevin Gimpel. The dataset contained generated pairs of text. The initial dataset as well as [processed version](https://drive.google.com/file/d/19NQ87gEFYu3zOIp_VNYQZgmnwRuSIyJd/view) do not contain information about toxisity rate and simmilarity.So let's move on.\n",
    "\n",
    "Next 'layer' is [s-nlp/detox](https://github.com/s-nlp/detox) modification. They made their own version of the dataset based on original [ParaNMT-50m](https://drive.google.com/u/0/uc?id=1rbF3daJjCsa1-fu2GANeJd2FBXos1ugD&export=download) made especiallyfor detoxification. From their github repository we can clearly see that metric they use is based on `SkolkovoInstitute/roberta_toxicity_classifier` and simmilarity rate is `wieting_similarity` (Where `roberta_toxicity_classifier` is fine-tuned [roberta-large](https://arxiv.org/abs/1907.11692) trained on [jigsaw's datasets](https://www.kaggle.com/c/jigsaw-unintended-bias-in-toxicity-classification)).\n",
    "\n",
    "    With this information we can test `s-nlp/detox` values and confirm that we will be working with the same validation scores."
   ]
  },
  {
   "cell_type": "code",
   "execution_count": 6,
   "id": "1a7bfe38",
   "metadata": {},
   "outputs": [],
   "source": [
    "# import all required libraries\n",
    "import torch\n",
    "from transformers import AutoModelForSequenceClassification, AutoTokenizer\n",
    "from transformers import RobertaTokenizer, RobertaForSequenceClassification"
   ]
  },
  {
   "cell_type": "code",
   "execution_count": 7,
   "id": "8bc6f615",
   "metadata": {},
   "outputs": [
    {
     "name": "stderr",
     "output_type": "stream",
     "text": [
      "Some weights of the model checkpoint at SkolkovoInstitute/roberta_toxicity_classifier were not used when initializing RobertaForSequenceClassification: ['roberta.pooler.dense.bias', 'roberta.pooler.dense.weight']\n",
      "- This IS expected if you are initializing RobertaForSequenceClassification from the checkpoint of a model trained on another task or with another architecture (e.g. initializing a BertForSequenceClassification model from a BertForPreTraining model).\n",
      "- This IS NOT expected if you are initializing RobertaForSequenceClassification from the checkpoint of a model that you expect to be exactly identical (initializing a BertForSequenceClassification model from a BertForSequenceClassification model).\n"
     ]
    }
   ],
   "source": [
    "# initialize tokenizer and model from s-nlp/detox repository\n",
    "model_name = 'SkolkovoInstitute/roberta_toxicity_classifier'\n",
    "\n",
    "tokenizer = RobertaTokenizer.from_pretrained(model_name)\n",
    "model = RobertaForSequenceClassification.from_pretrained(model_name)"
   ]
  },
  {
   "cell_type": "code",
   "execution_count": 8,
   "id": "8b8aa81b",
   "metadata": {},
   "outputs": [],
   "source": [
    "# load sample batch (cause all data would take ages)\n",
    "batch_size = 512\n",
    "\n",
    "sample = df.sample(batch_size)\n",
    "X = sample.reference.to_list()\n",
    "y = sample.ref_tox\n",
    "\n",
    "# run sample batch from tokenizer & model (and calculate results)\n",
    "tokens = tokenizer(text=X, return_tensors='pt', padding=True)\n",
    "with torch.inference_mode():\n",
    "    logits = model(**tokens).logits\n",
    "result = torch.softmax(logits, -1)[:, 1].cpu().numpy()"
   ]
  },
  {
   "cell_type": "code",
   "execution_count": 9,
   "id": "a909ce72",
   "metadata": {},
   "outputs": [
    {
     "data": {
      "text/plain": [
       "<AxesSubplot: ylabel='Frequency'>"
      ]
     },
     "execution_count": 9,
     "metadata": {},
     "output_type": "execute_result"
    },
    {
     "data": {
      "image/png": "[encoded data removed]",
      "text/plain": [
       "<Figure size 640x480 with 1 Axes>"
      ]
     },
     "metadata": {},
     "output_type": "display_data"
    }
   ],
   "source": [
    "# let's see how diverce our results with actual labels\n",
    "(result - y).abs().plot.hist()"
   ]
  },
  {
   "cell_type": "markdown",
   "id": "6bea3b22",
   "metadata": {},
   "source": [
    "From the graph we can see that our predictions seems to correlate with real labels, however from batch size 512 not even 400 have error less than `0.1`, which is conserning. We can say that this classifier seems good enough for a task to analyze overall model performance. In addition, we can ingone some samples where values between actual labels and predicted differs a lot by considering that data may be mislabeled. This could also has a potential to provide better performace of model."
   ]
  },
  {
   "cell_type": "markdown",
   "id": "a2e8a967",
   "metadata": {},
   "source": [
    "# How toxicity measured in other projects\n",
    "\n",
    "Currently there is no \"best solution\" for general user-cases, however the most popular choices are [detoxify](https://github.com/unitaryai/detoxify), default hugging face's metric [facebook/roberta-hate-speech-dynabench-r4-target](https://huggingface.co/facebook/roberta-hate-speech-dynabench-r4-target/discussions) and [DaNLP/da-electra-hatespeech-detection](https://huggingface.co/alexandrainst/da-hatespeech-detection-small). For that reason, it would make sence to try all of them and compare them on the same samples with `roberta_toxicity_classifier` from previous block"
   ]
  },
  {
   "cell_type": "markdown",
   "id": "b0d8373b",
   "metadata": {},
   "source": [
    "### Detoxify\n",
    "\n",
    "A python library for detecting toxic comments. Toxic Comment Classification with Pytorch Lightning and Transformers."
   ]
  },
  {
   "cell_type": "code",
   "execution_count": 10,
   "id": "2d5ebc01",
   "metadata": {},
   "outputs": [
    {
     "data": {
      "text/plain": [
       "<AxesSubplot: ylabel='Frequency'>"
      ]
     },
     "execution_count": 10,
     "metadata": {},
     "output_type": "execute_result"
    },
    {
     "data": {
      "image/png": "[encoded data removed]",
      "text/plain": [
       "<Figure size 640x480 with 1 Axes>"
      ]
     },
     "metadata": {},
     "output_type": "display_data"
    }
   ],
   "source": [
    "# !pip install detoxify\n",
    "from detoxify import Detoxify\n",
    "\n",
    "# define and predict\n",
    "result = Detoxify('unbiased').predict(X)\n",
    "result = torch.tensor(result['toxicity'])\n",
    "\n",
    "\n",
    "(result - y).abs().plot.hist()"
   ]
  },
  {
   "cell_type": "markdown",
   "id": "076de586",
   "metadata": {},
   "source": [
    "### HuggingFace - toxicity default\n",
    "\n",
    "A `facebook/roberta-hate-speech-dynabench-r4-target` model trained on [Learning from the worst](https://arxiv.org/abs/2012.15761) dataset."
   ]
  },
  {
   "cell_type": "code",
   "execution_count": 11,
   "id": "6358986b",
   "metadata": {},
   "outputs": [
    {
     "name": "stderr",
     "output_type": "stream",
     "text": [
      "Using default facebook/roberta-hate-speech-dynabench-r4-target checkpoint\n"
     ]
    },
    {
     "data": {
      "text/plain": [
       "<AxesSubplot: ylabel='Frequency'>"
      ]
     },
     "execution_count": 11,
     "metadata": {},
     "output_type": "execute_result"
    },
    {
     "data": {
      "image/png": "[encoded data removed]",
      "text/plain": [
       "<Figure size 640x480 with 1 Axes>"
      ]
     },
     "metadata": {},
     "output_type": "display_data"
    }
   ],
   "source": [
    "# !pip install -U tensorflow==2.10 \n",
    "# !pip install evaluate\n",
    "import evaluate\n",
    "\n",
    "# initialize and predict\n",
    "toxicity = evaluate.load(\"toxicity\", module_type=\"measurement\")\n",
    "result = toxicity.compute(predictions=X)\n",
    "result = torch.tensor(result['toxicity'])\n",
    "\n",
    "(result - y).abs().plot.hist()"
   ]
  },
  {
   "cell_type": "markdown",
   "id": "edc54902",
   "metadata": {},
   "source": [
    "### HuggingFace - DaNLP\n",
    "\n",
    "Danish ELECTRA for hate speech (offensive language) detection trained on Danish Ælæctra dataset"
   ]
  },
  {
   "cell_type": "code",
   "execution_count": 13,
   "id": "ffa5a5ee",
   "metadata": {},
   "outputs": [
    {
     "data": {
      "text/plain": [
       "<AxesSubplot: ylabel='Frequency'>"
      ]
     },
     "execution_count": 13,
     "metadata": {},
     "output_type": "execute_result"
    },
    {
     "data": {
      "image/png": "[encoded data removed]",
      "text/plain": [
       "<Figure size 640x480 with 1 Axes>"
      ]
     },
     "metadata": {},
     "output_type": "display_data"
    }
   ],
   "source": [
    "# !pip install -U tensorflow==2.10 \n",
    "# !pip install evaluate\n",
    "import evaluate\n",
    "\n",
    "# initialize and predict\n",
    "toxicity = toxicity = evaluate.load(\"toxicity\", 'DaNLP/da-electra-hatespeech-detection')\n",
    "result = toxicity.compute(predictions=X, toxic_label='offensive')\n",
    "result = torch.tensor(result['toxicity'])\n",
    "\n",
    "(result - y).abs().plot.hist()"
   ]
  },
  {
   "cell_type": "markdown",
   "id": "a382aefc",
   "metadata": {},
   "source": [
    "### Model comparison analysis\n",
    "\n",
    "As we can see by histograms, it's pretty easy to day that `SkolkovoInstitute/roberta_toxicity_classifier` is superior to others. However, worth mentioning that `Detoxify` performed pretty good compared to HuggingFace models and showed pretty strong correlation between it's predictions and unseen labels.\n",
    "\n",
    "Both `roberta-hate-speech-dynabench-r4-target` and `da-electra-hatespeech-detection` showed uncertanty about the labels, with facebook's model disagreeing with most of the labels. For this reason using these models seems useless as metric. "
   ]
  },
  {
   "cell_type": "markdown",
   "id": "dca73539",
   "metadata": {},
   "source": [
    "# Outcomes of the session\n",
    "\n",
    "As we can see from the graphs, both `SkolkovoInstitute/roberta_toxicity_classifier` and `Detoxify` seems to correlate the most with dataset. They are both trained on Jigsaw's datasets, when `roberta-hate-speech-dynabench-r4-target` and `a-electra-hatespeech-detection` aren't. Even though `Detoxify` showed worther results on the random samples, it still can be used to identify as metric. "
   ]
  },
  {
   "cell_type": "markdown",
   "id": "a987c35a",
   "metadata": {},
   "source": [
    "# Credits\n",
    "\n",
    "Notebook created by Polina Zelenskaya\\\n",
    "Innopolis University DS21-03\n",
    "\n",
    "Github: [github.com/cutefluffyfox](https://github.com/cutefluffyfox)\\\n",
    "Email: p.zelenskaya@innopolis.university\n"
   ]
  },
  {
   "cell_type": "code",
   "execution_count": null,
   "id": "16ca73b7",
   "metadata": {},
   "outputs": [],
   "source": []
  }
 ],
 "metadata": {
  "kernelspec": {
   "display_name": "Python 3 (ipykernel)",
   "language": "python",
   "name": "python3"
  },
  "language_info": {
   "codemirror_mode": {
    "name": "ipython",
    "version": 3
   },
   "file_extension": ".py",
   "mimetype": "text/x-python",
   "name": "python",
   "nbconvert_exporter": "python",
   "pygments_lexer": "ipython3",
   "version": "3.10.12"
  }
 },
 "nbformat": 4,
 "nbformat_minor": 5
}
